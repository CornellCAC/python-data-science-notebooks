{
 "cells": [
  {
   "cell_type": "markdown",
   "metadata": {},
   "source": [
    "<h2>Twitter Sentiment Analysis With Scikit-Learn</h2>\n",
    "<p>In this lesson we will use the scikit-learn Python library to perform some natural language processing tasks on our Twitter #climatechange dataset to evaluate user sentiment within the  280 character chunk of tweet text. For a supervised learning task, one must specify training and test datasets. For this example, we will use Textblob's built-in sentiment analysis to generate the core of our training and test datasets. </p>\n",
    "<p>This process consists of running the Textblob polarity sentiment analysis on the tweet text from our #climatechange dataset and extract a subset of the most positive or negative tweet text and create two datasets large enough to give us reasonable results but small enough to process quickly. </p>\n",
    "<p>We needed a reasonably large sample size so we chose tweets for the positive dataset which had polarity sentiment values greater than 0.6 and tweets in the negative dataset which had polarity sentiment less than 0.4.</p>\n",
    "<p>We then filtered the data to remove end-of-line characters, special characters, multiple sequential spaces, single character words, etc. \n"
   ]
  },
  {
   "cell_type": "markdown",
   "metadata": {},
   "source": [
    "<h2>Import Packages</h2>"
   ]
  },
  {
   "cell_type": "code",
   "execution_count": 1,
   "metadata": {},
   "outputs": [],
   "source": [
    "import re\n",
    "#import datetime\n",
    "#import os\n",
    "#import sys\n",
    "#import math\n",
    "import matplotlib.pyplot as plt\n",
    "import pandas as pd\n",
    "import numpy as np\n",
    "from textblob import TextBlob\n",
    "#import sklearn\n",
    "   "
   ]
  },
  {
   "cell_type": "markdown",
   "metadata": {},
   "source": [
    "## Import #climatechange Dataset"
   ]
  },
  {
   "cell_type": "code",
   "execution_count": 2,
   "metadata": {},
   "outputs": [],
   "source": [
    "data_dir = '../data/twitter/'"
   ]
  },
  {
   "cell_type": "code",
   "execution_count": 3,
   "metadata": {},
   "outputs": [],
   "source": [
    "df = pd.read_csv(data_dir + 'climatechange_tweets_all.csv')"
   ]
  },
  {
   "cell_type": "code",
   "execution_count": 4,
   "metadata": {},
   "outputs": [
    {
     "name": "stdout",
     "output_type": "stream",
     "text": [
      "<class 'pandas.core.frame.DataFrame'>\n",
      "RangeIndex: 457294 entries, 0 to 457293\n",
      "Data columns (total 15 columns):\n",
      " #   Column                    Non-Null Count   Dtype  \n",
      "---  ------                    --------------   -----  \n",
      " 0   tweet_id                  457294 non-null  int64  \n",
      " 1   tweet_created_at          457294 non-null  object \n",
      " 2   language                  457294 non-null  object \n",
      " 3   user_screen_name          457294 non-null  object \n",
      " 4   user_created_at           457294 non-null  object \n",
      " 5   user_id                   457294 non-null  int64  \n",
      " 6   followers_count           457294 non-null  int64  \n",
      " 7   friends_count             457294 non-null  int64  \n",
      " 8   time_zone                 0 non-null       float64\n",
      " 9   utc_offset                0 non-null       float64\n",
      " 10  retweeted_status          457294 non-null  int64  \n",
      " 11  retweet_id                457294 non-null  object \n",
      " 12  retweet_user_screen_name  457294 non-null  object \n",
      " 13  retweet_user_id           457294 non-null  object \n",
      " 14  text                      457294 non-null  object \n",
      "dtypes: float64(2), int64(5), object(8)\n",
      "memory usage: 52.3+ MB\n"
     ]
    }
   ],
   "source": [
    "df.info()"
   ]
  },
  {
   "cell_type": "markdown",
   "metadata": {},
   "source": [
    "## Create a Filtered Training/Test Dataset of Polarity Sentiment Measure Using Textblob\n",
    "\n",
    "In order to carry out classification, one needs to have labeled data examples: a set of inputs, along with associated labels, so that a classification algorithm can learn how to disciminate among the different labels based on the input. \n",
    "\n",
    "<p>Creating a training/test dataset can require a significant amount of time. Often crowd-sourcing is used for this purpose. Since this is just a tutorial based on 'low-stakes' examples, we will use a simpler and quicker method to create our training/test dataset with Textblob. Textblob provides a feature designed to perform sentiment analysis for two different measures of sentiment, polarity and subjectivity. In this example we will use polarity, i.e. the negative or positive nature of a text sample, to classify our #climatechange dataset into mostly positive and mostly negative datasets. </p>\n",
    "\n",
    "<p>In the next code cell, we filter the data in several ways before processing with TextBlob. </p>"
   ]
  },
  {
   "cell_type": "code",
   "execution_count": 5,
   "metadata": {},
   "outputs": [
    {
     "name": "stdout",
     "output_type": "stream",
     "text": [
      "10000\n",
      "20000\n",
      "30000\n",
      "40000\n"
     ]
    }
   ],
   "source": [
    "dff = df.drop_duplicates(subset='retweet_id')[['retweet_id', 'text']]\n",
    "count = 0\n",
    "for idx, row in dff.iterrows():\n",
    "    # Remove end-of-line characters\n",
    "    tweet_text = re.sub('\\n','',row['text'])\n",
    "    # Remove special characters\n",
    "    tweet_text = re.sub(r'\\W', ' ', tweet_text)\n",
    "    # remove all single characters\n",
    "    tweet_text = re.sub(r'\\s+[a-zA-Z]\\s+', ' ', tweet_text)\n",
    "    # Remove single characters from the start\n",
    "    tweet_text = re.sub(r'\\^[a-zA-Z]\\s+', ' ', tweet_text) \n",
    "    # Substituting multiple spaces with single space\n",
    "    tweet_text = re.sub(r'\\s+', ' ', tweet_text, flags=re.I)\n",
    "    # Removing prefixed 'b'\n",
    "    tweet_text = re.sub(r'^b\\s+', '', tweet_text)\n",
    "    # Converting to Lowercase\n",
    "    tweet_text = tweet_text.lower()\n",
    "    # Calculate the Sentiment with TextBlob\n",
    "    tweet_text_sentiment = TextBlob(tweet_text)\n",
    "    #\n",
    "    dff.loc[idx, 'tweet_text'] = tweet_text\n",
    "    dff.loc[idx, 'polarity'] = tweet_text_sentiment.sentiment.polarity\n",
    "    dff.loc[idx, 'subjectivity'] = tweet_text_sentiment.sentiment.subjectivity\n",
    "    #\n",
    "    count += 1\n",
    "    if count%10000 == 0:\n",
    "        print(count)\n",
    "\n",
    "dff.drop('text', axis=1, inplace=True)"
   ]
  },
  {
   "cell_type": "code",
   "execution_count": 6,
   "metadata": {},
   "outputs": [
    {
     "name": "stdout",
     "output_type": "stream",
     "text": [
      "<class 'pandas.core.frame.DataFrame'>\n",
      "Int64Index: 44127 entries, 0 to 457223\n",
      "Data columns (total 4 columns):\n",
      " #   Column        Non-Null Count  Dtype  \n",
      "---  ------        --------------  -----  \n",
      " 0   retweet_id    44127 non-null  object \n",
      " 1   tweet_text    44127 non-null  object \n",
      " 2   polarity      44127 non-null  float64\n",
      " 3   subjectivity  44127 non-null  float64\n",
      "dtypes: float64(2), object(2)\n",
      "memory usage: 2.7+ MB\n",
      "None\n"
     ]
    },
    {
     "data": {
      "text/html": [
       "<div>\n",
       "<style scoped>\n",
       "    .dataframe tbody tr th:only-of-type {\n",
       "        vertical-align: middle;\n",
       "    }\n",
       "\n",
       "    .dataframe tbody tr th {\n",
       "        vertical-align: top;\n",
       "    }\n",
       "\n",
       "    .dataframe thead th {\n",
       "        text-align: right;\n",
       "    }\n",
       "</style>\n",
       "<table border=\"1\" class=\"dataframe\">\n",
       "  <thead>\n",
       "    <tr style=\"text-align: right;\">\n",
       "      <th></th>\n",
       "      <th>retweet_id</th>\n",
       "      <th>tweet_text</th>\n",
       "      <th>polarity</th>\n",
       "      <th>subjectivity</th>\n",
       "    </tr>\n",
       "  </thead>\n",
       "  <tbody>\n",
       "    <tr>\n",
       "      <th>0</th>\n",
       "      <td>1068067040882233344</td>\n",
       "      <td>rt unfccc delegates from around the world are ...</td>\n",
       "      <td>0.000000</td>\n",
       "      <td>0.000000</td>\n",
       "    </tr>\n",
       "    <tr>\n",
       "      <th>1</th>\n",
       "      <td>1068210734977490944</td>\n",
       "      <td>rt saskboy think we most often hear the word d...</td>\n",
       "      <td>-0.066667</td>\n",
       "      <td>0.466667</td>\n",
       "    </tr>\n",
       "    <tr>\n",
       "      <th>2</th>\n",
       "      <td>1068223231264505857</td>\n",
       "      <td>rt ecosensenow it mat not be obvious but einst...</td>\n",
       "      <td>0.000000</td>\n",
       "      <td>0.500000</td>\n",
       "    </tr>\n",
       "    <tr>\n",
       "      <th>3</th>\n",
       "      <td>1068181567510626310</td>\n",
       "      <td>rt climatecomms most americans now see climate...</td>\n",
       "      <td>-0.277778</td>\n",
       "      <td>0.722222</td>\n",
       "    </tr>\n",
       "    <tr>\n",
       "      <th>4</th>\n",
       "      <td>1068187254768590848</td>\n",
       "      <td>rt portlandbem last week federal climate chang...</td>\n",
       "      <td>0.000000</td>\n",
       "      <td>0.322222</td>\n",
       "    </tr>\n",
       "  </tbody>\n",
       "</table>\n",
       "</div>"
      ],
      "text/plain": [
       "            retweet_id                                         tweet_text  \\\n",
       "0  1068067040882233344  rt unfccc delegates from around the world are ...   \n",
       "1  1068210734977490944  rt saskboy think we most often hear the word d...   \n",
       "2  1068223231264505857  rt ecosensenow it mat not be obvious but einst...   \n",
       "3  1068181567510626310  rt climatecomms most americans now see climate...   \n",
       "4  1068187254768590848  rt portlandbem last week federal climate chang...   \n",
       "\n",
       "   polarity  subjectivity  \n",
       "0  0.000000      0.000000  \n",
       "1 -0.066667      0.466667  \n",
       "2  0.000000      0.500000  \n",
       "3 -0.277778      0.722222  \n",
       "4  0.000000      0.322222  "
      ]
     },
     "execution_count": 6,
     "metadata": {},
     "output_type": "execute_result"
    }
   ],
   "source": [
    "print(dff.info())\n",
    "dff.head()"
   ]
  },
  {
   "cell_type": "code",
   "execution_count": 7,
   "metadata": {},
   "outputs": [
    {
     "data": {
      "text/plain": [
       "<Axes: ylabel='Frequency'>"
      ]
     },
     "execution_count": 7,
     "metadata": {},
     "output_type": "execute_result"
    },
    {
     "data": {
      "image/png": "[encoded data removed]",
      "text/plain": [
       "<Figure size 640x480 with 1 Axes>"
      ]
     },
     "metadata": {},
     "output_type": "display_data"
    }
   ],
   "source": [
    "dff['polarity'].plot.hist()"
   ]
  },
  {
   "cell_type": "code",
   "execution_count": 8,
   "metadata": {},
   "outputs": [],
   "source": [
    "dff['polarity_label'] = dff['polarity'].apply(\n",
    "    lambda x: 'positive' if x > 0.5 else ('negative' if x < -0.3 else 'neutral'))"
   ]
  },
  {
   "cell_type": "code",
   "execution_count": 9,
   "metadata": {},
   "outputs": [
    {
     "data": {
      "text/plain": [
       "<Axes: ylabel='Frequency'>"
      ]
     },
     "execution_count": 9,
     "metadata": {},
     "output_type": "execute_result"
    },
    {
     "data": {
      "image/png": "[encoded data removed]",
      "text/plain": [
       "<Figure size 640x480 with 1 Axes>"
      ]
     },
     "metadata": {},
     "output_type": "display_data"
    }
   ],
   "source": [
    "dff['subjectivity'].plot.hist(bins=20)"
   ]
  },
  {
   "cell_type": "code",
   "execution_count": 10,
   "metadata": {},
   "outputs": [],
   "source": [
    "dff['subjectivity_label'] = dff['subjectivity'].apply(\n",
    "    lambda x: 'subjective' if x > 0.9 else ('objective' if x < 0.02 else 'neither'))"
   ]
  },
  {
   "cell_type": "code",
   "execution_count": 11,
   "metadata": {},
   "outputs": [
    {
     "data": {
      "text/html": [
       "<div>\n",
       "<style scoped>\n",
       "    .dataframe tbody tr th:only-of-type {\n",
       "        vertical-align: middle;\n",
       "    }\n",
       "\n",
       "    .dataframe tbody tr th {\n",
       "        vertical-align: top;\n",
       "    }\n",
       "\n",
       "    .dataframe thead th {\n",
       "        text-align: right;\n",
       "    }\n",
       "</style>\n",
       "<table border=\"1\" class=\"dataframe\">\n",
       "  <thead>\n",
       "    <tr style=\"text-align: right;\">\n",
       "      <th></th>\n",
       "      <th>retweet_id</th>\n",
       "      <th>tweet_text</th>\n",
       "      <th>polarity</th>\n",
       "      <th>subjectivity</th>\n",
       "      <th>polarity_label</th>\n",
       "      <th>subjectivity_label</th>\n",
       "    </tr>\n",
       "  </thead>\n",
       "  <tbody>\n",
       "    <tr>\n",
       "      <th>0</th>\n",
       "      <td>1068067040882233344</td>\n",
       "      <td>rt unfccc delegates from around the world are ...</td>\n",
       "      <td>0.000000</td>\n",
       "      <td>0.000000</td>\n",
       "      <td>neutral</td>\n",
       "      <td>objective</td>\n",
       "    </tr>\n",
       "    <tr>\n",
       "      <th>1</th>\n",
       "      <td>1068210734977490944</td>\n",
       "      <td>rt saskboy think we most often hear the word d...</td>\n",
       "      <td>-0.066667</td>\n",
       "      <td>0.466667</td>\n",
       "      <td>neutral</td>\n",
       "      <td>neither</td>\n",
       "    </tr>\n",
       "    <tr>\n",
       "      <th>2</th>\n",
       "      <td>1068223231264505857</td>\n",
       "      <td>rt ecosensenow it mat not be obvious but einst...</td>\n",
       "      <td>0.000000</td>\n",
       "      <td>0.500000</td>\n",
       "      <td>neutral</td>\n",
       "      <td>neither</td>\n",
       "    </tr>\n",
       "    <tr>\n",
       "      <th>3</th>\n",
       "      <td>1068181567510626310</td>\n",
       "      <td>rt climatecomms most americans now see climate...</td>\n",
       "      <td>-0.277778</td>\n",
       "      <td>0.722222</td>\n",
       "      <td>neutral</td>\n",
       "      <td>neither</td>\n",
       "    </tr>\n",
       "    <tr>\n",
       "      <th>4</th>\n",
       "      <td>1068187254768590848</td>\n",
       "      <td>rt portlandbem last week federal climate chang...</td>\n",
       "      <td>0.000000</td>\n",
       "      <td>0.322222</td>\n",
       "      <td>neutral</td>\n",
       "      <td>neither</td>\n",
       "    </tr>\n",
       "  </tbody>\n",
       "</table>\n",
       "</div>"
      ],
      "text/plain": [
       "            retweet_id                                         tweet_text  \\\n",
       "0  1068067040882233344  rt unfccc delegates from around the world are ...   \n",
       "1  1068210734977490944  rt saskboy think we most often hear the word d...   \n",
       "2  1068223231264505857  rt ecosensenow it mat not be obvious but einst...   \n",
       "3  1068181567510626310  rt climatecomms most americans now see climate...   \n",
       "4  1068187254768590848  rt portlandbem last week federal climate chang...   \n",
       "\n",
       "   polarity  subjectivity polarity_label subjectivity_label  \n",
       "0  0.000000      0.000000        neutral          objective  \n",
       "1 -0.066667      0.466667        neutral            neither  \n",
       "2  0.000000      0.500000        neutral            neither  \n",
       "3 -0.277778      0.722222        neutral            neither  \n",
       "4  0.000000      0.322222        neutral            neither  "
      ]
     },
     "execution_count": 11,
     "metadata": {},
     "output_type": "execute_result"
    }
   ],
   "source": [
    "dff.head()"
   ]
  },
  {
   "cell_type": "markdown",
   "metadata": {},
   "source": [
    "## Building a Classifier\n",
    "\n",
    "Now that we have created our datasets we can proceed to create a classifier, the aim of which is to take as input a given tweet text and to assign a label as to its likely sentiment (positive, negative, or neutral).\n",
    "\n",
    "In order to proceed, we need to initialize a vectorizer. This converts the tweet text into a word 'vector' in which each word becomes a 'component' of the vector and has a specific magnitude. We have not performed any preprocessing on the data or removed any stop words. We will set lowercase to False.</p>"
   ]
  },
  {
   "cell_type": "code",
   "execution_count": 12,
   "metadata": {},
   "outputs": [],
   "source": [
    "from sklearn.feature_extraction.text import CountVectorizer     \n",
    "\n",
    "vectorizer = CountVectorizer(\n",
    "    analyzer = 'word',\n",
    "    lowercase = False,\n",
    "    max_features = 85\n",
    ")"
   ]
  },
  {
   "cell_type": "code",
   "execution_count": 13,
   "metadata": {},
   "outputs": [
    {
     "data": {
      "text/plain": [
       "(44127, 85)"
      ]
     },
     "execution_count": 13,
     "metadata": {},
     "output_type": "execute_result"
    }
   ],
   "source": [
    "features = vectorizer.fit_transform(dff.tweet_text).toarray()\n",
    "features.shape"
   ]
  },
  {
   "cell_type": "markdown",
   "metadata": {},
   "source": [
    "As a final step, we'll split the training data to get an evaluation set through scikit-learn's built-in cross validation method. All we need to do is provide the data and assign a training percentage (in this case, 80%)."
   ]
  },
  {
   "cell_type": "code",
   "execution_count": 14,
   "metadata": {},
   "outputs": [
    {
     "name": "stdout",
     "output_type": "stream",
     "text": [
      "(35301, 85)\n",
      "(8826, 85)\n",
      "(35301,)\n",
      "(8826,)\n"
     ]
    }
   ],
   "source": [
    "from sklearn.model_selection import train_test_split\n",
    "\n",
    "X = features\n",
    "y = dff.polarity_label\n",
    "\n",
    "X_train, X_test, y_train, y_test = train_test_split(\n",
    "    X, y, train_size=0.8, random_state=1234)\n",
    "\n",
    "print(X_train.shape)\n",
    "print(X_test.shape)\n",
    "print(y_train.shape)\n",
    "print(y_test.shape)"
   ]
  },
  {
   "cell_type": "markdown",
   "metadata": {},
   "source": [
    "### Build a Linear Classifier\n",
    "\n",
    "Finally, having preprocessed the data, we can build a classifier for this corpus. As mentioned before, we'll be using the Logistic Regression from scikit-learn, so we'll start there: "
   ]
  },
  {
   "cell_type": "code",
   "execution_count": 15,
   "metadata": {},
   "outputs": [],
   "source": [
    "from sklearn.linear_model import LogisticRegression\n",
    "log_model = LogisticRegression(solver='liblinear')"
   ]
  },
  {
   "cell_type": "markdown",
   "metadata": {},
   "source": [
    "Once the model is initialized, we have to fit it to our specific dataset, so we use scikit-learn's `fit()` method to do so:"
   ]
  },
  {
   "cell_type": "code",
   "execution_count": 16,
   "metadata": {},
   "outputs": [],
   "source": [
    "log_model = log_model.fit(X=X_train, y=y_train)"
   ]
  },
  {
   "cell_type": "markdown",
   "metadata": {},
   "source": [
    "And finally, we use this classifier to label the evaluation set we created earlier:"
   ]
  },
  {
   "cell_type": "code",
   "execution_count": 17,
   "metadata": {},
   "outputs": [],
   "source": [
    "y_pred = log_model.predict(X_test)"
   ]
  },
  {
   "cell_type": "markdown",
   "metadata": {},
   "source": [
    "### Evaluate the Model's Accuracy"
   ]
  },
  {
   "cell_type": "markdown",
   "metadata": {},
   "source": [
    "In scikit-learn, there is a function called sklearn.metrics.accuracy_score which calculates the accuracy of the model."
   ]
  },
  {
   "cell_type": "code",
   "execution_count": 44,
   "metadata": {},
   "outputs": [
    {
     "name": "stdout",
     "output_type": "stream",
     "text": [
      "0.91241785633356\n"
     ]
    }
   ],
   "source": [
    "from sklearn.metrics import accuracy_score\n",
    "print(accuracy_score(y_test, y_pred))"
   ]
  },
  {
   "cell_type": "markdown",
   "metadata": {},
   "source": [
    "We can generalize our accuracy assessment through cross-validation:"
   ]
  },
  {
   "cell_type": "code",
   "execution_count": 45,
   "metadata": {},
   "outputs": [
    {
     "data": {
      "text/plain": [
       "{'fit_time': array([0.23553896, 0.28517008, 0.28699589, 0.26599097, 0.28178978]),\n",
       " 'score_time': array([0.00478315, 0.01450205, 0.00453806, 0.00440907, 0.00495911]),\n",
       " 'test_score': array([0.91457059, 0.91411738, 0.91478754, 0.91433428, 0.91580737])}"
      ]
     },
     "execution_count": 45,
     "metadata": {},
     "output_type": "execute_result"
    }
   ],
   "source": [
    "from sklearn.model_selection import cross_validate\n",
    "cross_validate(log_model, X, y, cv=5)"
   ]
  },
  {
   "cell_type": "markdown",
   "metadata": {},
   "source": [
    "Let's try some other classifiers, such as Naive Bayes. Scikit-learn offers a few variations on the Naive-Bayes classifier, Gaussian, Multinomial, and Complement. We will create and test each model and compare our results with the Logistic Regression model. "
   ]
  },
  {
   "cell_type": "markdown",
   "metadata": {},
   "source": [
    "<h2>Gaussian NB Classifier</h2>\n",
    "<p>This classifier does not really make sense because it assumes the distribution of our data is gaussian, which is not likely for tweet text. But let's run it anyhow and confirm our suspicions.</p>"
   ]
  },
  {
   "cell_type": "code",
   "execution_count": 50,
   "metadata": {},
   "outputs": [
    {
     "data": {
      "text/plain": [
       "{'fit_time': array([0.03864908, 0.03769875, 0.03763795, 0.03770399, 0.03787208]),\n",
       " 'score_time': array([0.00881219, 0.00849223, 0.007581  , 0.00833011, 0.00819898]),\n",
       " 'test_score': array([0.27362339, 0.30364831, 0.23320113, 0.29291785, 0.34413598])}"
      ]
     },
     "execution_count": 50,
     "metadata": {},
     "output_type": "execute_result"
    }
   ],
   "source": [
    "from sklearn.naive_bayes import GaussianNB\n",
    "gnb = GaussianNB()\n",
    "gnb_model = gnb.fit(X=X_train, y=y_train)\n",
    "y_pred = gnb_model.predict(X_test)\n",
    "cross_validate(gnb_model, X, y, cv=5)"
   ]
  },
  {
   "cell_type": "code",
   "execution_count": 51,
   "metadata": {},
   "outputs": [
    {
     "name": "stdout",
     "output_type": "stream",
     "text": [
      "0.2735100838431906\n"
     ]
    }
   ],
   "source": [
    "from sklearn.metrics import accuracy_score\n",
    "print(accuracy_score(y_test, y_pred))"
   ]
  },
  {
   "cell_type": "markdown",
   "metadata": {},
   "source": [
    "<h2>Multinomial NB Classifier</h2>"
   ]
  },
  {
   "cell_type": "code",
   "execution_count": 52,
   "metadata": {},
   "outputs": [
    {
     "data": {
      "text/plain": [
       "{'fit_time': array([0.05883026, 0.07261896, 0.07440066, 0.06312108, 0.06718802]),\n",
       " 'score_time': array([0.00388288, 0.00398493, 0.00372815, 0.00389624, 0.00550508]),\n",
       " 'test_score': array([0.91275776, 0.91321097, 0.91286119, 0.91240793, 0.91388102])}"
      ]
     },
     "execution_count": 52,
     "metadata": {},
     "output_type": "execute_result"
    }
   ],
   "source": [
    "from sklearn.naive_bayes import MultinomialNB\n",
    "mnb = MultinomialNB()\n",
    "mnb_model = mnb.fit(X=X_train, y=y_train)\n",
    "y_pred = mnb_model.predict(X_test)\n",
    "cross_validate(mnb_model, X, y, cv=5)"
   ]
  },
  {
   "cell_type": "code",
   "execution_count": 53,
   "metadata": {},
   "outputs": [
    {
     "name": "stdout",
     "output_type": "stream",
     "text": [
      "0.9110582370269658\n"
     ]
    }
   ],
   "source": [
    "from sklearn.metrics import accuracy_score\n",
    "print(accuracy_score(y_test, y_pred))"
   ]
  },
  {
   "cell_type": "markdown",
   "metadata": {},
   "source": [
    "<h2>Complement NB Classifier</h2>"
   ]
  },
  {
   "cell_type": "code",
   "execution_count": 54,
   "metadata": {},
   "outputs": [
    {
     "data": {
      "text/plain": [
       "{'fit_time': array([0.07462502, 0.07923388, 0.06362534, 0.06402206, 0.07389426]),\n",
       " 'score_time': array([0.00414109, 0.00384307, 0.00403881, 0.00399995, 0.0037818 ]),\n",
       " 'test_score': array([0.59539995, 0.60605031, 0.6       , 0.59977337, 0.62968839])}"
      ]
     },
     "execution_count": 54,
     "metadata": {},
     "output_type": "execute_result"
    }
   ],
   "source": [
    "from sklearn.naive_bayes import ComplementNB\n",
    "cnb = ComplementNB()\n",
    "cnb_model = cnb.fit(X=X_train, y=y_train)\n",
    "y_pred = cnb_model.predict(X_test)\n",
    "cross_validate(cnb_model, X, y, cv=5)"
   ]
  },
  {
   "cell_type": "markdown",
   "metadata": {},
   "source": [
    "It appears none of the Naive Bayes classifiers performs better than Logistic Regression. "
   ]
  }
 ],
 "metadata": {
  "kernelspec": {
   "display_name": "Python 3 (ipykernel)",
   "language": "python",
   "name": "python3"
  },
  "language_info": {
   "codemirror_mode": {
    "name": "ipython",
    "version": 3
   },
   "file_extension": ".py",
   "mimetype": "text/x-python",
   "name": "python",
   "nbconvert_exporter": "python",
   "pygments_lexer": "ipython3",
   "version": "3.11.3"
  }
 },
 "nbformat": 4,
 "nbformat_minor": 4
}
