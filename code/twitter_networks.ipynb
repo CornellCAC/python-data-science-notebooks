{
 "cells": [
  {
   "cell_type": "markdown",
   "metadata": {},
   "source": [
    "<h2>Using Pandas and Networkx to Find the Influencers the #climatechange Twitter Dataset</h2>\n",
    "\n",
    "<p>In this example, we explore measures of 'centrality' to identify the Twitter user who appear to have the most influence.</p>"
   ]
  },
  {
   "cell_type": "markdown",
   "metadata": {},
   "source": [
    "<h2>Import Packages</h2>"
   ]
  },
  {
   "cell_type": "code",
   "execution_count": 1,
   "metadata": {},
   "outputs": [],
   "source": [
    "import pandas as pd\n",
    "import datetime\n",
    "import numpy as np\n",
    "import networkx as nx\n",
    "import matplotlib.pyplot as plt\n",
    "import os.path\n",
    "from pprint import pprint"
   ]
  },
  {
   "cell_type": "markdown",
   "metadata": {},
   "source": [
    "<h2>Read the #climatechange CSV Dataset</h2>"
   ]
  },
  {
   "cell_type": "code",
   "execution_count": 2,
   "metadata": {},
   "outputs": [],
   "source": [
    "data_dir = '../data/twitter/'"
   ]
  },
  {
   "cell_type": "code",
   "execution_count": 3,
   "metadata": {},
   "outputs": [],
   "source": [
    "tweet_df = pd.read_csv(os.path.join(data_dir, 'climatechange_tweets_all.csv'), \\\n",
    "                       parse_dates=['tweet_created_at', 'user_created_at'])"
   ]
  },
  {
   "cell_type": "code",
   "execution_count": 4,
   "metadata": {},
   "outputs": [
    {
     "data": {
      "text/html": [
       "<div>\n",
       "<style scoped>\n",
       "    .dataframe tbody tr th:only-of-type {\n",
       "        vertical-align: middle;\n",
       "    }\n",
       "\n",
       "    .dataframe tbody tr th {\n",
       "        vertical-align: top;\n",
       "    }\n",
       "\n",
       "    .dataframe thead th {\n",
       "        text-align: right;\n",
       "    }\n",
       "</style>\n",
       "<table border=\"1\" class=\"dataframe\">\n",
       "  <thead>\n",
       "    <tr style=\"text-align: right;\">\n",
       "      <th></th>\n",
       "      <th>tweet_id</th>\n",
       "      <th>tweet_created_at</th>\n",
       "      <th>language</th>\n",
       "      <th>user_screen_name</th>\n",
       "      <th>user_created_at</th>\n",
       "      <th>user_id</th>\n",
       "      <th>followers_count</th>\n",
       "      <th>friends_count</th>\n",
       "      <th>time_zone</th>\n",
       "      <th>utc_offset</th>\n",
       "      <th>retweeted_status</th>\n",
       "      <th>retweet_id</th>\n",
       "      <th>retweet_user_screen_name</th>\n",
       "      <th>retweet_user_id</th>\n",
       "      <th>text</th>\n",
       "    </tr>\n",
       "  </thead>\n",
       "  <tbody>\n",
       "    <tr>\n",
       "      <th>0</th>\n",
       "      <td>1068223635024941056</td>\n",
       "      <td>2018-11-29 19:22:15</td>\n",
       "      <td>en</td>\n",
       "      <td>JGuerreroN13</td>\n",
       "      <td>2017-06-07 20:21:48</td>\n",
       "      <td>872549171680694272</td>\n",
       "      <td>245</td>\n",
       "      <td>419</td>\n",
       "      <td>NaN</td>\n",
       "      <td>NaN</td>\n",
       "      <td>1</td>\n",
       "      <td>1068067040882233344</td>\n",
       "      <td>UNFCCC</td>\n",
       "      <td>17463923</td>\n",
       "      <td>RT @UNFCCC: Delegates from around the world ar...</td>\n",
       "    </tr>\n",
       "    <tr>\n",
       "      <th>1</th>\n",
       "      <td>1068223643765940226</td>\n",
       "      <td>2018-11-29 19:22:17</td>\n",
       "      <td>en</td>\n",
       "      <td>t_rustyboy1720</td>\n",
       "      <td>2017-09-23 03:53:34</td>\n",
       "      <td>911438362271031296</td>\n",
       "      <td>63</td>\n",
       "      <td>232</td>\n",
       "      <td>NaN</td>\n",
       "      <td>NaN</td>\n",
       "      <td>1</td>\n",
       "      <td>1068210734977490944</td>\n",
       "      <td>saskboy</td>\n",
       "      <td>6634632</td>\n",
       "      <td>RT @saskboy: I think we most often hear the wo...</td>\n",
       "    </tr>\n",
       "    <tr>\n",
       "      <th>2</th>\n",
       "      <td>1068223645330432001</td>\n",
       "      <td>2018-11-29 19:22:18</td>\n",
       "      <td>en</td>\n",
       "      <td>MissCJWright</td>\n",
       "      <td>2009-03-15 16:24:32</td>\n",
       "      <td>24544855</td>\n",
       "      <td>1383</td>\n",
       "      <td>4585</td>\n",
       "      <td>NaN</td>\n",
       "      <td>NaN</td>\n",
       "      <td>1</td>\n",
       "      <td>1068223231264505857</td>\n",
       "      <td>EcoSenseNow</td>\n",
       "      <td>1392956425</td>\n",
       "      <td>RT @EcoSenseNow: It mat not be obvious, but Ei...</td>\n",
       "    </tr>\n",
       "    <tr>\n",
       "      <th>3</th>\n",
       "      <td>1068223649222664194</td>\n",
       "      <td>2018-11-29 19:22:19</td>\n",
       "      <td>en</td>\n",
       "      <td>al_f</td>\n",
       "      <td>2009-07-17 00:05:50</td>\n",
       "      <td>57490401</td>\n",
       "      <td>333</td>\n",
       "      <td>377</td>\n",
       "      <td>NaN</td>\n",
       "      <td>NaN</td>\n",
       "      <td>1</td>\n",
       "      <td>1068181567510626310</td>\n",
       "      <td>ClimateComms</td>\n",
       "      <td>362642209</td>\n",
       "      <td>RT @ClimateComms: Most Americans now see #clim...</td>\n",
       "    </tr>\n",
       "    <tr>\n",
       "      <th>4</th>\n",
       "      <td>1068223660299677696</td>\n",
       "      <td>2018-11-29 19:22:21</td>\n",
       "      <td>en</td>\n",
       "      <td>Hawknana_</td>\n",
       "      <td>2013-12-21 03:16:04</td>\n",
       "      <td>2255917724</td>\n",
       "      <td>1751</td>\n",
       "      <td>3409</td>\n",
       "      <td>NaN</td>\n",
       "      <td>NaN</td>\n",
       "      <td>1</td>\n",
       "      <td>1068187254768590848</td>\n",
       "      <td>PortlandBEM</td>\n",
       "      <td>18030823</td>\n",
       "      <td>RT @PortlandBEM: Last week's federal climate c...</td>\n",
       "    </tr>\n",
       "  </tbody>\n",
       "</table>\n",
       "</div>"
      ],
      "text/plain": [
       "              tweet_id    tweet_created_at language user_screen_name  \\\n",
       "0  1068223635024941056 2018-11-29 19:22:15       en     JGuerreroN13   \n",
       "1  1068223643765940226 2018-11-29 19:22:17       en   t_rustyboy1720   \n",
       "2  1068223645330432001 2018-11-29 19:22:18       en     MissCJWright   \n",
       "3  1068223649222664194 2018-11-29 19:22:19       en             al_f   \n",
       "4  1068223660299677696 2018-11-29 19:22:21       en        Hawknana_   \n",
       "\n",
       "      user_created_at             user_id  followers_count  friends_count  \\\n",
       "0 2017-06-07 20:21:48  872549171680694272              245            419   \n",
       "1 2017-09-23 03:53:34  911438362271031296               63            232   \n",
       "2 2009-03-15 16:24:32            24544855             1383           4585   \n",
       "3 2009-07-17 00:05:50            57490401              333            377   \n",
       "4 2013-12-21 03:16:04          2255917724             1751           3409   \n",
       "\n",
       "   time_zone  utc_offset  retweeted_status           retweet_id  \\\n",
       "0        NaN         NaN                 1  1068067040882233344   \n",
       "1        NaN         NaN                 1  1068210734977490944   \n",
       "2        NaN         NaN                 1  1068223231264505857   \n",
       "3        NaN         NaN                 1  1068181567510626310   \n",
       "4        NaN         NaN                 1  1068187254768590848   \n",
       "\n",
       "  retweet_user_screen_name retweet_user_id  \\\n",
       "0                   UNFCCC        17463923   \n",
       "1                  saskboy         6634632   \n",
       "2              EcoSenseNow      1392956425   \n",
       "3             ClimateComms       362642209   \n",
       "4              PortlandBEM        18030823   \n",
       "\n",
       "                                                text  \n",
       "0  RT @UNFCCC: Delegates from around the world ar...  \n",
       "1  RT @saskboy: I think we most often hear the wo...  \n",
       "2  RT @EcoSenseNow: It mat not be obvious, but Ei...  \n",
       "3  RT @ClimateComms: Most Americans now see #clim...  \n",
       "4  RT @PortlandBEM: Last week's federal climate c...  "
      ]
     },
     "execution_count": 4,
     "metadata": {},
     "output_type": "execute_result"
    }
   ],
   "source": [
    "tweet_df.head()"
   ]
  },
  {
   "cell_type": "markdown",
   "metadata": {},
   "source": [
    "<h2>Extract Retweets</h2>"
   ]
  },
  {
   "cell_type": "code",
   "execution_count": 5,
   "metadata": {},
   "outputs": [],
   "source": [
    "retweet_df = tweet_df[tweet_df.retweeted_status == 1]"
   ]
  },
  {
   "cell_type": "code",
   "execution_count": 6,
   "metadata": {},
   "outputs": [
    {
     "data": {
      "text/html": [
       "<div>\n",
       "<style scoped>\n",
       "    .dataframe tbody tr th:only-of-type {\n",
       "        vertical-align: middle;\n",
       "    }\n",
       "\n",
       "    .dataframe tbody tr th {\n",
       "        vertical-align: top;\n",
       "    }\n",
       "\n",
       "    .dataframe thead th {\n",
       "        text-align: right;\n",
       "    }\n",
       "</style>\n",
       "<table border=\"1\" class=\"dataframe\">\n",
       "  <thead>\n",
       "    <tr style=\"text-align: right;\">\n",
       "      <th></th>\n",
       "      <th>tweet_id</th>\n",
       "      <th>tweet_created_at</th>\n",
       "      <th>language</th>\n",
       "      <th>user_screen_name</th>\n",
       "      <th>user_created_at</th>\n",
       "      <th>user_id</th>\n",
       "      <th>followers_count</th>\n",
       "      <th>friends_count</th>\n",
       "      <th>time_zone</th>\n",
       "      <th>utc_offset</th>\n",
       "      <th>retweeted_status</th>\n",
       "      <th>retweet_id</th>\n",
       "      <th>retweet_user_screen_name</th>\n",
       "      <th>retweet_user_id</th>\n",
       "      <th>text</th>\n",
       "    </tr>\n",
       "  </thead>\n",
       "  <tbody>\n",
       "    <tr>\n",
       "      <th>0</th>\n",
       "      <td>1068223635024941056</td>\n",
       "      <td>2018-11-29 19:22:15</td>\n",
       "      <td>en</td>\n",
       "      <td>JGuerreroN13</td>\n",
       "      <td>2017-06-07 20:21:48</td>\n",
       "      <td>872549171680694272</td>\n",
       "      <td>245</td>\n",
       "      <td>419</td>\n",
       "      <td>NaN</td>\n",
       "      <td>NaN</td>\n",
       "      <td>1</td>\n",
       "      <td>1068067040882233344</td>\n",
       "      <td>UNFCCC</td>\n",
       "      <td>17463923</td>\n",
       "      <td>RT @UNFCCC: Delegates from around the world ar...</td>\n",
       "    </tr>\n",
       "    <tr>\n",
       "      <th>1</th>\n",
       "      <td>1068223643765940226</td>\n",
       "      <td>2018-11-29 19:22:17</td>\n",
       "      <td>en</td>\n",
       "      <td>t_rustyboy1720</td>\n",
       "      <td>2017-09-23 03:53:34</td>\n",
       "      <td>911438362271031296</td>\n",
       "      <td>63</td>\n",
       "      <td>232</td>\n",
       "      <td>NaN</td>\n",
       "      <td>NaN</td>\n",
       "      <td>1</td>\n",
       "      <td>1068210734977490944</td>\n",
       "      <td>saskboy</td>\n",
       "      <td>6634632</td>\n",
       "      <td>RT @saskboy: I think we most often hear the wo...</td>\n",
       "    </tr>\n",
       "    <tr>\n",
       "      <th>2</th>\n",
       "      <td>1068223645330432001</td>\n",
       "      <td>2018-11-29 19:22:18</td>\n",
       "      <td>en</td>\n",
       "      <td>MissCJWright</td>\n",
       "      <td>2009-03-15 16:24:32</td>\n",
       "      <td>24544855</td>\n",
       "      <td>1383</td>\n",
       "      <td>4585</td>\n",
       "      <td>NaN</td>\n",
       "      <td>NaN</td>\n",
       "      <td>1</td>\n",
       "      <td>1068223231264505857</td>\n",
       "      <td>EcoSenseNow</td>\n",
       "      <td>1392956425</td>\n",
       "      <td>RT @EcoSenseNow: It mat not be obvious, but Ei...</td>\n",
       "    </tr>\n",
       "    <tr>\n",
       "      <th>3</th>\n",
       "      <td>1068223649222664194</td>\n",
       "      <td>2018-11-29 19:22:19</td>\n",
       "      <td>en</td>\n",
       "      <td>al_f</td>\n",
       "      <td>2009-07-17 00:05:50</td>\n",
       "      <td>57490401</td>\n",
       "      <td>333</td>\n",
       "      <td>377</td>\n",
       "      <td>NaN</td>\n",
       "      <td>NaN</td>\n",
       "      <td>1</td>\n",
       "      <td>1068181567510626310</td>\n",
       "      <td>ClimateComms</td>\n",
       "      <td>362642209</td>\n",
       "      <td>RT @ClimateComms: Most Americans now see #clim...</td>\n",
       "    </tr>\n",
       "    <tr>\n",
       "      <th>4</th>\n",
       "      <td>1068223660299677696</td>\n",
       "      <td>2018-11-29 19:22:21</td>\n",
       "      <td>en</td>\n",
       "      <td>Hawknana_</td>\n",
       "      <td>2013-12-21 03:16:04</td>\n",
       "      <td>2255917724</td>\n",
       "      <td>1751</td>\n",
       "      <td>3409</td>\n",
       "      <td>NaN</td>\n",
       "      <td>NaN</td>\n",
       "      <td>1</td>\n",
       "      <td>1068187254768590848</td>\n",
       "      <td>PortlandBEM</td>\n",
       "      <td>18030823</td>\n",
       "      <td>RT @PortlandBEM: Last week's federal climate c...</td>\n",
       "    </tr>\n",
       "  </tbody>\n",
       "</table>\n",
       "</div>"
      ],
      "text/plain": [
       "              tweet_id    tweet_created_at language user_screen_name  \\\n",
       "0  1068223635024941056 2018-11-29 19:22:15       en     JGuerreroN13   \n",
       "1  1068223643765940226 2018-11-29 19:22:17       en   t_rustyboy1720   \n",
       "2  1068223645330432001 2018-11-29 19:22:18       en     MissCJWright   \n",
       "3  1068223649222664194 2018-11-29 19:22:19       en             al_f   \n",
       "4  1068223660299677696 2018-11-29 19:22:21       en        Hawknana_   \n",
       "\n",
       "      user_created_at             user_id  followers_count  friends_count  \\\n",
       "0 2017-06-07 20:21:48  872549171680694272              245            419   \n",
       "1 2017-09-23 03:53:34  911438362271031296               63            232   \n",
       "2 2009-03-15 16:24:32            24544855             1383           4585   \n",
       "3 2009-07-17 00:05:50            57490401              333            377   \n",
       "4 2013-12-21 03:16:04          2255917724             1751           3409   \n",
       "\n",
       "   time_zone  utc_offset  retweeted_status           retweet_id  \\\n",
       "0        NaN         NaN                 1  1068067040882233344   \n",
       "1        NaN         NaN                 1  1068210734977490944   \n",
       "2        NaN         NaN                 1  1068223231264505857   \n",
       "3        NaN         NaN                 1  1068181567510626310   \n",
       "4        NaN         NaN                 1  1068187254768590848   \n",
       "\n",
       "  retweet_user_screen_name retweet_user_id  \\\n",
       "0                   UNFCCC        17463923   \n",
       "1                  saskboy         6634632   \n",
       "2              EcoSenseNow      1392956425   \n",
       "3             ClimateComms       362642209   \n",
       "4              PortlandBEM        18030823   \n",
       "\n",
       "                                                text  \n",
       "0  RT @UNFCCC: Delegates from around the world ar...  \n",
       "1  RT @saskboy: I think we most often hear the wo...  \n",
       "2  RT @EcoSenseNow: It mat not be obvious, but Ei...  \n",
       "3  RT @ClimateComms: Most Americans now see #clim...  \n",
       "4  RT @PortlandBEM: Last week's federal climate c...  "
      ]
     },
     "execution_count": 6,
     "metadata": {},
     "output_type": "execute_result"
    }
   ],
   "source": [
    "retweet_df.head()"
   ]
  },
  {
   "cell_type": "markdown",
   "metadata": {},
   "source": [
    "<h2>Explore the Top Tweets and Retweeted Users</h2>"
   ]
  },
  {
   "cell_type": "code",
   "execution_count": 7,
   "metadata": {},
   "outputs": [],
   "source": [
    "topretweets = retweet_df.groupby('retweet_id').size().sort_values(ascending=False).reset_index()\n",
    "topretweeted = retweet_df.groupby('retweet_user_screen_name').size().sort_values(ascending=False).reset_index()"
   ]
  },
  {
   "cell_type": "code",
   "execution_count": 8,
   "metadata": {
    "scrolled": true
   },
   "outputs": [
    {
     "name": "stdout",
     "output_type": "stream",
     "text": [
      "            retweet_id     0\n",
      "0  1066155330986541058  8923\n",
      "1  1067149009867878400  3316\n",
      "2  1065274149461987328  3108\n",
      "3  1069278755041001472  2885\n",
      "4  1069686443109466113  2509\n",
      "5  1068113206525202433  2409\n",
      "6  1069700156067594240  1956\n",
      "7  1064191037571297280  1917\n",
      "8  1068595221188042753  1892\n",
      "9  1066352623358361600  1653\n"
     ]
    }
   ],
   "source": [
    "print(topretweets[:10])"
   ]
  },
  {
   "cell_type": "code",
   "execution_count": 9,
   "metadata": {},
   "outputs": [
    {
     "data": {
      "image/png": "[encoded data removed]",
      "text/plain": [
       "<Figure size 640x480 with 1 Axes>"
      ]
     },
     "metadata": {},
     "output_type": "display_data"
    }
   ],
   "source": [
    "plt.hist(np.log10(topretweets[0]), bins=100);\n",
    "plt.semilogy();"
   ]
  },
  {
   "cell_type": "code",
   "execution_count": 10,
   "metadata": {},
   "outputs": [
    {
     "name": "stdout",
     "output_type": "stream",
     "text": [
      "  retweet_user_screen_name      0\n",
      "0              PaulEDawson  14947\n",
      "1                   UNFCCC  14059\n",
      "2              NancyPelosi   8923\n",
      "3          jessphoenix2018   5870\n",
      "4              MarkRuffalo   4074\n",
      "5                SenMarkey   3278\n",
      "6             Poseidon_NGO   3116\n",
      "7            RealMAGASteve   2885\n",
      "8            SenWhitehouse   2469\n",
      "9               MikeHudema   2447\n"
     ]
    }
   ],
   "source": [
    "print(topretweeted[:10])"
   ]
  },
  {
   "cell_type": "markdown",
   "metadata": {},
   "source": [
    "# Building a Retweet Graph\n",
    "\n",
    "While we can get some useful statistics just from the retweet dataframe, it is useful to package some of that data into a network for further analyses.\n",
    "\n",
    "We can create a weighted edge list linking twitter users in our retweet dataset, where a directed edge from a source user (retweeter) to a target user (retweeted) is included if source retweets target, with additional edge information in the form of a weight that indicates how many times source retweeted target in our dataset. This can be done very succinctly using the pandas groupby functionality, allowing us to group by (source, target) pairs.  The code cell below computes this edge list (in the form of a dataframe) and displays the head."
   ]
  },
  {
   "cell_type": "code",
   "execution_count": 11,
   "metadata": {},
   "outputs": [
    {
     "data": {
      "text/html": [
       "<div>\n",
       "<style scoped>\n",
       "    .dataframe tbody tr th:only-of-type {\n",
       "        vertical-align: middle;\n",
       "    }\n",
       "\n",
       "    .dataframe tbody tr th {\n",
       "        vertical-align: top;\n",
       "    }\n",
       "\n",
       "    .dataframe thead th {\n",
       "        text-align: right;\n",
       "    }\n",
       "</style>\n",
       "<table border=\"1\" class=\"dataframe\">\n",
       "  <thead>\n",
       "    <tr style=\"text-align: right;\">\n",
       "      <th></th>\n",
       "      <th>source</th>\n",
       "      <th>target</th>\n",
       "      <th>weight</th>\n",
       "    </tr>\n",
       "  </thead>\n",
       "  <tbody>\n",
       "    <tr>\n",
       "      <th>0</th>\n",
       "      <td>000120o</td>\n",
       "      <td>DiEM_25</td>\n",
       "      <td>1</td>\n",
       "    </tr>\n",
       "    <tr>\n",
       "      <th>1</th>\n",
       "      <td>000120o</td>\n",
       "      <td>EricPiolle</td>\n",
       "      <td>1</td>\n",
       "    </tr>\n",
       "    <tr>\n",
       "      <th>2</th>\n",
       "      <td>000120o</td>\n",
       "      <td>GenerationsBXL</td>\n",
       "      <td>1</td>\n",
       "    </tr>\n",
       "    <tr>\n",
       "      <th>3</th>\n",
       "      <td>00023E</td>\n",
       "      <td>dailystarnews</td>\n",
       "      <td>1</td>\n",
       "    </tr>\n",
       "    <tr>\n",
       "      <th>4</th>\n",
       "      <td>000Netty00</td>\n",
       "      <td>CClimateAction</td>\n",
       "      <td>1</td>\n",
       "    </tr>\n",
       "  </tbody>\n",
       "</table>\n",
       "</div>"
      ],
      "text/plain": [
       "       source          target  weight\n",
       "0     000120o         DiEM_25       1\n",
       "1     000120o      EricPiolle       1\n",
       "2     000120o  GenerationsBXL       1\n",
       "3      00023E   dailystarnews       1\n",
       "4  000Netty00  CClimateAction       1"
      ]
     },
     "execution_count": 11,
     "metadata": {},
     "output_type": "execute_result"
    }
   ],
   "source": [
    "edge_df = retweet_df.groupby(['user_screen_name','retweet_user_screen_name']).size().reset_index()\n",
    "edge_df.rename(columns={'user_screen_name': 'source', 'retweet_user_screen_name': 'target', 0: 'weight'}, inplace=True)\n",
    "edge_df.head()"
   ]
  },
  {
   "cell_type": "markdown",
   "metadata": {},
   "source": [
    "From this edge list, we can construct a directed graph (object of type nx.DiGraph) with the included edge weights, using the networkx function <code>nx.from_pandas_edgelist</code>.  We want to create a directed graph because these retweet edges have a meaningful directionality (from retweeter to retweeted).  We can also print out some basic statistics about the graph, such as the number of nodes and edges."
   ]
  },
  {
   "cell_type": "code",
   "execution_count": 12,
   "metadata": {},
   "outputs": [
    {
     "name": "stdout",
     "output_type": "stream",
     "text": [
      "170995\n",
      "264644\n"
     ]
    }
   ],
   "source": [
    "G = nx.from_pandas_edgelist(edge_df, create_using=nx.DiGraph, edge_attr=True)\n",
    "print(G.number_of_nodes())\n",
    "print(G.number_of_edges())"
   ]
  },
  {
   "cell_type": "markdown",
   "metadata": {},
   "source": [
    "It is often of interest as to whether a network forms one complete, connected component, or whether it is broken up into multiple disjoint components.  For a directed network such as the one we have constructed here, there are two different types of connnectivity to consider: weak connectivity and strong connectivity.  The weakly connected components of a directed graph are comprised of those nodes that can be reached from one another by traversing edges independent of the directionality of those edges (i.e., as if we converted the directed network to an undirected one).  The strongly connected components are comprised of those nodes that can only be reached from one another by following the directed edges of the graph, which is a much stronger constraint on connectivity.  We can evaluate and print the number of both weakly and strongly connected components in our graph, using predefined functions in nx."
   ]
  },
  {
   "cell_type": "code",
   "execution_count": 13,
   "metadata": {},
   "outputs": [
    {
     "name": "stdout",
     "output_type": "stream",
     "text": [
      "5059\n",
      "168769\n"
     ]
    }
   ],
   "source": [
    "print(nx.number_weakly_connected_components(G))\n",
    "print(nx.number_strongly_connected_components(G))"
   ]
  },
  {
   "cell_type": "markdown",
   "metadata": {},
   "source": [
    "We can also compute the sizes (number of nodes) for each weakly connected component, and print the largest sizes.  We see that approximately 92% of the nodes in the network are part of the largest component, and that the remainder are much smaller in size."
   ]
  },
  {
   "cell_type": "code",
   "execution_count": 14,
   "metadata": {},
   "outputs": [
    {
     "name": "stdout",
     "output_type": "stream",
     "text": [
      "[157841, 48, 37, 28, 26, 25, 25, 21, 20, 20]\n"
     ]
    }
   ],
   "source": [
    "weak_sizes = sorted([len(c) for c in nx.weakly_connected_components(G)], reverse=True)\n",
    "print(weak_sizes[:10])"
   ]
  },
  {
   "cell_type": "markdown",
   "metadata": {},
   "source": [
    "## Network Degrees\n",
    "\n",
    "The degree of a node in a graph represents how many other nodes it is connected to.  For a directed graph, there are two degrees, the in-degree and out-degree, depending on whether an edge is incoming or outgoing from a node.  Twitter users with large in-degree are those who are retweeted a lot, and thus are perhaps serving as important influencers within the social network.  Because our graph has weighted edges, we can compute either simply the in-degree (number of incoming edges) or the weighted in-degree (sum of all weights on incoming edges), the latter of which would indicate the total number of retweets from that user."
   ]
  },
  {
   "cell_type": "code",
   "execution_count": 15,
   "metadata": {},
   "outputs": [
    {
     "data": {
      "text/plain": [
       "[('UNFCCC', 9165),\n",
       " ('NancyPelosi', 8880),\n",
       " ('PaulEDawson', 5876),\n",
       " ('jessphoenix2018', 5312),\n",
       " ('MarkRuffalo', 3678),\n",
       " ('SenMarkey', 3100),\n",
       " ('RealMAGASteve', 2848),\n",
       " ('ed_hawkins', 2396),\n",
       " ('TravelWithXtina', 2175),\n",
       " ('SenWhitehouse', 2132)]"
      ]
     },
     "execution_count": 15,
     "metadata": {},
     "output_type": "execute_result"
    }
   ],
   "source": [
    "in_degrees = G.in_degree()\n",
    "in_degrees_sorted = sorted(in_degrees, key=lambda kv:kv[1], reverse=True)\n",
    "in_degrees_sorted[:10]"
   ]
  },
  {
   "cell_type": "markdown",
   "metadata": {},
   "source": [
    "#### Exercise: Extend the code above to compute weighted in degrees"
   ]
  },
  {
   "cell_type": "code",
   "execution_count": 16,
   "metadata": {},
   "outputs": [],
   "source": [
    "# YOUR CODE HERE"
   ]
  },
  {
   "cell_type": "markdown",
   "metadata": {},
   "source": [
    "Solution here..."
   ]
  },
  {
   "cell_type": "code",
   "execution_count": 17,
   "metadata": {
    "scrolled": true
   },
   "outputs": [
    {
     "data": {
      "text/plain": [
       "[('PaulEDawson', 14947),\n",
       " ('UNFCCC', 14059),\n",
       " ('NancyPelosi', 8923),\n",
       " ('jessphoenix2018', 5870),\n",
       " ('MarkRuffalo', 4074),\n",
       " ('SenMarkey', 3278),\n",
       " ('Poseidon_NGO', 3116),\n",
       " ('RealMAGASteve', 2885),\n",
       " ('SenWhitehouse', 2469),\n",
       " ('MikeHudema', 2447)]"
      ]
     },
     "execution_count": 17,
     "metadata": {},
     "output_type": "execute_result"
    }
   ],
   "source": [
    "weighted_in_degrees = G.in_degree(weight='weight')\n",
    "weighted_in_degrees_sorted = sorted(weighted_in_degrees, key=lambda kv:kv[1], reverse=True)\n",
    "weighted_in_degrees_sorted[:10]"
   ]
  },
  {
   "cell_type": "markdown",
   "metadata": {},
   "source": [
    "<h2>Closeness Centrality</h2>\n",
    "<p>Closeness centrality is a measure of the extent to which a particular node is close to other nodes. The node which requires the fewest overall 'hops' for other users to reach it has the highest 'closeness'. In order to perform a global closeness centrality calculation on an entire graph, the graph must be fully connected. This means that every node has a path to every other node. Our dataset is not a connected graph, but we can still perform calculations on individual nodes. For this example, we will calculate closeness centrality for the top 100 retweeted users in our dataset. </p>"
   ]
  },
  {
   "cell_type": "code",
   "execution_count": 18,
   "metadata": {},
   "outputs": [
    {
     "name": "stdout",
     "output_type": "stream",
     "text": [
      "0 PaulEDawson 0.06906497612855028\n",
      "1 UNFCCC 0.11144289912839853\n",
      "2 NancyPelosi 0.06334007674767712\n",
      "3 jessphoenix2018 0.06303324047572335\n",
      "4 MarkRuffalo 0.053675460141634726\n",
      "5 SenMarkey 0.06499481526229721\n",
      "6 Poseidon_NGO 0.037780729827207135\n",
      "7 RealMAGASteve 0.02952882731050731\n",
      "8 SenWhitehouse 0.04979530328053893\n",
      "9 MikeHudema 0.06537302087006597\n"
     ]
    }
   ],
   "source": [
    "for i in range(10):\n",
    "    topretweeted_screen_name = topretweeted['retweet_user_screen_name'][i]\n",
    "    nx_cc = nx.closeness_centrality(G, u=topretweeted_screen_name)\n",
    "    print(str(i) + \" \" + topretweeted_screen_name + \" \" + str(nx_cc))"
   ]
  },
  {
   "cell_type": "code",
   "execution_count": null,
   "metadata": {},
   "outputs": [],
   "source": []
  }
 ],
 "metadata": {
  "kernelspec": {
   "display_name": "Python 3 (ipykernel)",
   "language": "python",
   "name": "python3"
  },
  "language_info": {
   "codemirror_mode": {
    "name": "ipython",
    "version": 3
   },
   "file_extension": ".py",
   "mimetype": "text/x-python",
   "name": "python",
   "nbconvert_exporter": "python",
   "pygments_lexer": "ipython3",
   "version": "3.11.3"
  }
 },
 "nbformat": 4,
 "nbformat_minor": 4
}
